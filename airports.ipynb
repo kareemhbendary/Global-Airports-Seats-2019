{
 "cells": [
  {
   "cell_type": "code",
   "execution_count": 1,
   "id": "0ac5631f",
   "metadata": {},
   "outputs": [],
   "source": [
    "#importing needed libraries"
   ]
  },
  {
   "cell_type": "code",
   "execution_count": 7,
   "id": "ec926a27",
   "metadata": {},
   "outputs": [],
   "source": [
    "import numpy as np \n",
    "import pandas as pd"
   ]
  },
  {
   "cell_type": "code",
   "execution_count": 8,
   "id": "1274b736",
   "metadata": {},
   "outputs": [],
   "source": [
    "data=pd.read_csv('airport_volume_airport_locations.csv')"
   ]
  },
  {
   "cell_type": "code",
   "execution_count": null,
   "id": "2da62ddd",
   "metadata": {},
   "outputs": [],
   "source": [
    "#exploring data"
   ]
  },
  {
   "cell_type": "code",
   "execution_count": 9,
   "id": "b5ca341f",
   "metadata": {},
   "outputs": [
    {
     "data": {
      "text/html": [
       "<div>\n",
       "<style scoped>\n",
       "    .dataframe tbody tr th:only-of-type {\n",
       "        vertical-align: middle;\n",
       "    }\n",
       "\n",
       "    .dataframe tbody tr th {\n",
       "        vertical-align: top;\n",
       "    }\n",
       "\n",
       "    .dataframe thead th {\n",
       "        text-align: right;\n",
       "    }\n",
       "</style>\n",
       "<table border=\"1\" class=\"dataframe\">\n",
       "  <thead>\n",
       "    <tr style=\"text-align: right;\">\n",
       "      <th></th>\n",
       "      <th>Orig</th>\n",
       "      <th>Name</th>\n",
       "      <th>TotalSeats</th>\n",
       "      <th>Country Name</th>\n",
       "      <th>Airport1Latitude</th>\n",
       "      <th>Airport1Longitude</th>\n",
       "    </tr>\n",
       "  </thead>\n",
       "  <tbody>\n",
       "    <tr>\n",
       "      <th>0</th>\n",
       "      <td>HEA</td>\n",
       "      <td>Herat</td>\n",
       "      <td>22,042</td>\n",
       "      <td>Afghanistan</td>\n",
       "      <td>34.206902</td>\n",
       "      <td>62.226700</td>\n",
       "    </tr>\n",
       "    <tr>\n",
       "      <th>1</th>\n",
       "      <td>JAA</td>\n",
       "      <td>Jalalabad</td>\n",
       "      <td>6,344</td>\n",
       "      <td>Afghanistan</td>\n",
       "      <td>34.400002</td>\n",
       "      <td>70.500000</td>\n",
       "    </tr>\n",
       "    <tr>\n",
       "      <th>2</th>\n",
       "      <td>KBL</td>\n",
       "      <td>Kabul International</td>\n",
       "      <td>1,016,197</td>\n",
       "      <td>Afghanistan</td>\n",
       "      <td>34.563900</td>\n",
       "      <td>69.213898</td>\n",
       "    </tr>\n",
       "    <tr>\n",
       "      <th>3</th>\n",
       "      <td>KDH</td>\n",
       "      <td>Kandahar International</td>\n",
       "      <td>39,924</td>\n",
       "      <td>Afghanistan</td>\n",
       "      <td>31.506901</td>\n",
       "      <td>65.847504</td>\n",
       "    </tr>\n",
       "    <tr>\n",
       "      <th>4</th>\n",
       "      <td>MZR</td>\n",
       "      <td>Mazar-e-Sharif</td>\n",
       "      <td>58,327</td>\n",
       "      <td>Afghanistan</td>\n",
       "      <td>36.704201</td>\n",
       "      <td>67.208298</td>\n",
       "    </tr>\n",
       "  </tbody>\n",
       "</table>\n",
       "</div>"
      ],
      "text/plain": [
       "  Orig                    Name  TotalSeats  Country Name  Airport1Latitude  \\\n",
       "0  HEA                   Herat      22,042   Afghanistan         34.206902   \n",
       "1  JAA               Jalalabad       6,344   Afghanistan         34.400002   \n",
       "2  KBL     Kabul International   1,016,197   Afghanistan         34.563900   \n",
       "3  KDH  Kandahar International      39,924   Afghanistan         31.506901   \n",
       "4  MZR          Mazar-e-Sharif      58,327   Afghanistan         36.704201   \n",
       "\n",
       "   Airport1Longitude  \n",
       "0          62.226700  \n",
       "1          70.500000  \n",
       "2          69.213898  \n",
       "3          65.847504  \n",
       "4          67.208298  "
      ]
     },
     "execution_count": 9,
     "metadata": {},
     "output_type": "execute_result"
    }
   ],
   "source": [
    "data.head()"
   ]
  },
  {
   "cell_type": "code",
   "execution_count": 10,
   "id": "f6705f56",
   "metadata": {},
   "outputs": [
    {
     "data": {
      "text/html": [
       "<div>\n",
       "<style scoped>\n",
       "    .dataframe tbody tr th:only-of-type {\n",
       "        vertical-align: middle;\n",
       "    }\n",
       "\n",
       "    .dataframe tbody tr th {\n",
       "        vertical-align: top;\n",
       "    }\n",
       "\n",
       "    .dataframe thead th {\n",
       "        text-align: right;\n",
       "    }\n",
       "</style>\n",
       "<table border=\"1\" class=\"dataframe\">\n",
       "  <thead>\n",
       "    <tr style=\"text-align: right;\">\n",
       "      <th></th>\n",
       "      <th>Orig</th>\n",
       "      <th>Name</th>\n",
       "      <th>TotalSeats</th>\n",
       "      <th>Country Name</th>\n",
       "      <th>Airport1Latitude</th>\n",
       "      <th>Airport1Longitude</th>\n",
       "    </tr>\n",
       "  </thead>\n",
       "  <tbody>\n",
       "    <tr>\n",
       "      <th>2168</th>\n",
       "      <td>MFU</td>\n",
       "      <td>Mfuwe</td>\n",
       "      <td>589</td>\n",
       "      <td>Zambia</td>\n",
       "      <td>-13.259400</td>\n",
       "      <td>31.934799</td>\n",
       "    </tr>\n",
       "    <tr>\n",
       "      <th>2169</th>\n",
       "      <td>NLA</td>\n",
       "      <td>Ndola</td>\n",
       "      <td>101,856</td>\n",
       "      <td>Zambia</td>\n",
       "      <td>-12.995800</td>\n",
       "      <td>28.663099</td>\n",
       "    </tr>\n",
       "    <tr>\n",
       "      <th>2170</th>\n",
       "      <td>BUQ</td>\n",
       "      <td>Joshua M. Nkomo Intl</td>\n",
       "      <td>100,998</td>\n",
       "      <td>Zimbabwe</td>\n",
       "      <td>-20.016899</td>\n",
       "      <td>28.618099</td>\n",
       "    </tr>\n",
       "    <tr>\n",
       "      <th>2171</th>\n",
       "      <td>HRE</td>\n",
       "      <td>RG Mugabe International Airport</td>\n",
       "      <td>751,217</td>\n",
       "      <td>Zimbabwe</td>\n",
       "      <td>-17.922800</td>\n",
       "      <td>31.101400</td>\n",
       "    </tr>\n",
       "    <tr>\n",
       "      <th>2172</th>\n",
       "      <td>VFA</td>\n",
       "      <td>Victoria Falls International</td>\n",
       "      <td>229,727</td>\n",
       "      <td>Zimbabwe</td>\n",
       "      <td>-18.093100</td>\n",
       "      <td>25.840300</td>\n",
       "    </tr>\n",
       "  </tbody>\n",
       "</table>\n",
       "</div>"
      ],
      "text/plain": [
       "     Orig                             Name  TotalSeats  Country Name  \\\n",
       "2168  MFU                            Mfuwe         589        Zambia   \n",
       "2169  NLA                            Ndola     101,856        Zambia   \n",
       "2170  BUQ             Joshua M. Nkomo Intl     100,998      Zimbabwe   \n",
       "2171  HRE  RG Mugabe International Airport     751,217      Zimbabwe   \n",
       "2172  VFA     Victoria Falls International     229,727      Zimbabwe   \n",
       "\n",
       "      Airport1Latitude  Airport1Longitude  \n",
       "2168        -13.259400          31.934799  \n",
       "2169        -12.995800          28.663099  \n",
       "2170        -20.016899          28.618099  \n",
       "2171        -17.922800          31.101400  \n",
       "2172        -18.093100          25.840300  "
      ]
     },
     "execution_count": 10,
     "metadata": {},
     "output_type": "execute_result"
    }
   ],
   "source": [
    "data.tail()"
   ]
  },
  {
   "cell_type": "code",
   "execution_count": 17,
   "id": "c0d3177d",
   "metadata": {},
   "outputs": [
    {
     "name": "stdout",
     "output_type": "stream",
     "text": [
      "<class 'pandas.core.frame.DataFrame'>\n",
      "RangeIndex: 2173 entries, 0 to 2172\n",
      "Data columns (total 6 columns):\n",
      " #   Column             Non-Null Count  Dtype  \n",
      "---  ------             --------------  -----  \n",
      " 0   Orig               2173 non-null   object \n",
      " 1   Name               2173 non-null   object \n",
      " 2    TotalSeats        2173 non-null   object \n",
      " 3   Country Name       2173 non-null   object \n",
      " 4   Airport1Latitude   2173 non-null   float64\n",
      " 5   Airport1Longitude  2173 non-null   float64\n",
      "dtypes: float64(2), object(4)\n",
      "memory usage: 102.0+ KB\n"
     ]
    }
   ],
   "source": [
    "data.info()"
   ]
  },
  {
   "cell_type": "code",
   "execution_count": 18,
   "id": "5d216560",
   "metadata": {},
   "outputs": [
    {
     "data": {
      "text/plain": [
       "Orig                 0\n",
       "Name                 0\n",
       " TotalSeats          0\n",
       "Country Name         0\n",
       "Airport1Latitude     0\n",
       "Airport1Longitude    0\n",
       "dtype: int64"
      ]
     },
     "execution_count": 18,
     "metadata": {},
     "output_type": "execute_result"
    }
   ],
   "source": [
    "data.isnull().sum()"
   ]
  },
  {
   "cell_type": "code",
   "execution_count": 19,
   "id": "47328a73",
   "metadata": {},
   "outputs": [
    {
     "data": {
      "text/plain": [
       "0"
      ]
     },
     "execution_count": 19,
     "metadata": {},
     "output_type": "execute_result"
    }
   ],
   "source": [
    "data.duplicated().sum()"
   ]
  },
  {
   "cell_type": "code",
   "execution_count": 21,
   "id": "c3d65c9e",
   "metadata": {},
   "outputs": [
    {
     "data": {
      "text/plain": [
       "array(['Afghanistan', 'Albania', 'Algeria', 'Angola', 'Anguilla',\n",
       "       'Antigua and Barbuda', 'Argentina', 'Armenia', 'Aruba',\n",
       "       'Australia', 'Austria', 'Azerbaijan', 'Bahamas', 'Bahrain',\n",
       "       'Bangladesh', 'Barbados', 'Belarus', 'Belgium', 'Belize', 'Benin',\n",
       "       'Bermuda', 'Bhutan', 'Bolivia', 'Bonaire, Saint Eustatius & Saba',\n",
       "       'Bosnia and Herzegovina', 'Botswana', 'Brazil',\n",
       "       'British Virgin Islands', 'Brunei Darussalam', 'Bulgaria',\n",
       "       'Burkina Faso', 'Burundi', 'Cambodia', 'Cameroon', 'Canada',\n",
       "       'Cape Verde', 'Cayman Islands', 'Central African Republic', 'Chad',\n",
       "       'Chile', 'China', 'Christmas Island', 'Cocos (Keeling) Islands',\n",
       "       'Colombia', 'Comoros', 'Congo', 'Cook Islands', 'Costa Rica',\n",
       "       'Croatia', 'Cuba', 'Curacao', 'Cyprus', 'Czech Republic',\n",
       "       'Democratic Republic of the Congo', 'Denmark', 'Djibouti',\n",
       "       'Dominica', 'Dominican Republic', 'East Timor', 'Ecuador', 'Egypt',\n",
       "       'El Salvador', 'Equatorial Guinea', 'Eritrea', 'Estonia',\n",
       "       'Ethiopia', 'Falkland Islands', 'Fiji', 'Finland', 'France',\n",
       "       'French Guiana', 'French Polynesia', 'Gabon', 'Gambia', 'Georgia',\n",
       "       'Germany', 'Ghana', 'Gibraltar', 'Greece', 'Greenland',\n",
       "       'Grenada and South Grenadines', 'Guadeloupe', 'Guatemala',\n",
       "       'Guinea', 'Guinea Bissau', 'Guyana', 'Haiti', 'Honduras',\n",
       "       'Hong Kong (SAR)', 'Hungary', 'Iceland', 'India', 'Indonesia',\n",
       "       'Iran', 'Iraq', 'Ireland', 'Israel', 'Italy',\n",
       "       \"Ivory Coast (Cote d'Ivoire)\", 'Jamaica', 'Japan', 'Jordan',\n",
       "       'Kazakhstan', 'Kenya', 'Kiribati', 'Kuwait', 'Kyrgyzstan', 'Laos',\n",
       "       'Latvia', 'Lebanon', 'Lesotho', 'Liberia', 'Libya', 'Lithuania',\n",
       "       'Luxembourg', 'Macau (SAR)', 'Macedonia', 'Madagascar', 'Malawi',\n",
       "       'Malaysia', 'Maldives', 'Mali', 'Malta', 'Marshall Islands',\n",
       "       'Martinique', 'Mauritania', 'Mauritius', 'Mayotte', 'Mexico',\n",
       "       'Micronesia', 'Moldova', 'Monaco', 'Mongolia', 'Montenegro',\n",
       "       'Montserrat', 'Morocco', 'Mozambique', 'Myanmar', 'Namibia',\n",
       "       'Nauru', 'Nepal', 'Netherlands', 'New Caledonia', 'New Zealand',\n",
       "       'Nicaragua', 'Niger', 'Nigeria', 'Niue', 'Norfolk Island',\n",
       "       'North Korea', 'Norway', 'Oman', 'Pakistan', 'Palau', 'Panama',\n",
       "       'Papua New Guinea', 'Paraguay', 'Peru', 'Philippines', 'Poland',\n",
       "       'Portugal', 'Qatar', 'Reunion', 'Romania', 'Russian Federation',\n",
       "       'Rwanda', 'Saint Barthelemy', 'Saint Helena',\n",
       "       'Saint Kitts and Nevis', 'Saint Lucia', 'Saint Martin',\n",
       "       'Saint Pierre and Miquelon', 'Saint Vincent and Grenadines',\n",
       "       'Sao Tome and Principe', 'Saudi Arabia', 'Senegal', 'Serbia',\n",
       "       'Seychelles', 'Sierra Leone', 'Singapore', 'Sint Maarten',\n",
       "       'Slovakia', 'Slovenia', 'Solomon Islands', 'Somalia',\n",
       "       'South Africa', 'South Korea', 'South Sudan', 'Spain', 'Sri Lanka',\n",
       "       'Sudan', 'Suriname', 'Swaziland', 'Sweden', 'Switzerland', 'Syria',\n",
       "       'Taiwan', 'Tajikistan', 'Tanzania', 'Thailand', 'Togo', 'Tonga',\n",
       "       'Trinidad and Tobago', 'Tunisia', 'Turkey', 'Turkmenistan',\n",
       "       'Turks and Caicos Islands', 'Tuvalu', 'Uganda', 'Ukraine',\n",
       "       'United Arab Emirates', 'United Kingdom', 'United States',\n",
       "       'Uruguay', 'Uzbekistan', 'Vanuatu', 'Venezuela', 'Vietnam',\n",
       "       'Wallis and Futuna Islands', 'Western Sahara', 'Western Samoa',\n",
       "       'Yemen', 'Zambia', 'Zimbabwe'], dtype=object)"
      ]
     },
     "execution_count": 21,
     "metadata": {},
     "output_type": "execute_result"
    }
   ],
   "source": [
    "data[\"Country Name\"].unique()"
   ]
  },
  {
   "cell_type": "code",
   "execution_count": 22,
   "id": "7fa6ca11",
   "metadata": {},
   "outputs": [
    {
     "data": {
      "text/plain": [
       "224"
      ]
     },
     "execution_count": 22,
     "metadata": {},
     "output_type": "execute_result"
    }
   ],
   "source": [
    "data[\"Country Name\"].nunique()"
   ]
  },
  {
   "cell_type": "code",
   "execution_count": 25,
   "id": "d2e8733e",
   "metadata": {},
   "outputs": [
    {
     "data": {
      "text/plain": [
       "United States              291\n",
       "China                      102\n",
       "Russian Federation          93\n",
       "Canada                      82\n",
       "France                      62\n",
       "                          ... \n",
       "Cocos (Keeling) Islands      1\n",
       "Nauru                        1\n",
       "Cook Islands                 1\n",
       "Montserrat                   1\n",
       "Niue                         1\n",
       "Name: Country Name, Length: 224, dtype: int64"
      ]
     },
     "execution_count": 25,
     "metadata": {},
     "output_type": "execute_result"
    }
   ],
   "source": [
    "data[\"Country Name\"].value_counts()"
   ]
  },
  {
   "cell_type": "code",
   "execution_count": null,
   "id": "b59ebb11",
   "metadata": {},
   "outputs": [],
   "source": []
  },
  {
   "cell_type": "code",
   "execution_count": null,
   "id": "a8f97249",
   "metadata": {},
   "outputs": [],
   "source": []
  },
  {
   "cell_type": "code",
   "execution_count": null,
   "id": "02356b73",
   "metadata": {},
   "outputs": [],
   "source": []
  },
  {
   "cell_type": "code",
   "execution_count": null,
   "id": "09e17f8d",
   "metadata": {},
   "outputs": [],
   "source": []
  },
  {
   "cell_type": "code",
   "execution_count": null,
   "id": "a2af35fe",
   "metadata": {},
   "outputs": [],
   "source": []
  },
  {
   "cell_type": "code",
   "execution_count": null,
   "id": "8c22468a",
   "metadata": {},
   "outputs": [],
   "source": []
  },
  {
   "cell_type": "code",
   "execution_count": null,
   "id": "2d2634ef",
   "metadata": {},
   "outputs": [],
   "source": []
  },
  {
   "cell_type": "code",
   "execution_count": null,
   "id": "f4d07796",
   "metadata": {},
   "outputs": [],
   "source": []
  },
  {
   "cell_type": "code",
   "execution_count": null,
   "id": "d6ff1714",
   "metadata": {},
   "outputs": [],
   "source": []
  }
 ],
 "metadata": {
  "kernelspec": {
   "display_name": "Python 3 (ipykernel)",
   "language": "python",
   "name": "python3"
  },
  "language_info": {
   "codemirror_mode": {
    "name": "ipython",
    "version": 3
   },
   "file_extension": ".py",
   "mimetype": "text/x-python",
   "name": "python",
   "nbconvert_exporter": "python",
   "pygments_lexer": "ipython3",
   "version": "3.9.13"
  }
 },
 "nbformat": 4,
 "nbformat_minor": 5
}
